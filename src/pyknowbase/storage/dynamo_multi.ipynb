{
 "cells": [
  {
   "cell_type": "code",
   "execution_count": 1,
   "metadata": {},
   "outputs": [],
   "source": [
    "import boto3\n",
    "import sys\n",
    "sys.path.append(\"..\")"
   ]
  },
  {
   "cell_type": "code",
   "execution_count": 2,
   "metadata": {},
   "outputs": [],
   "source": [
    "table_name = \"multi-kb\"\n",
    "index_name = \"gsi_pk-index\""
   ]
  },
  {
   "cell_type": "code",
   "execution_count": 3,
   "metadata": {},
   "outputs": [],
   "source": [
    "session = boto3.Session()\n",
    "dynamodb = session.resource(\"dynamodb\")\n",
    "table = dynamodb.Table(table_name)"
   ]
  },
  {
   "cell_type": "code",
   "execution_count": null,
   "metadata": {},
   "outputs": [],
   "source": [
    "from pyknowbase.storage.dynamo_multitenent import DynamoMultiKnowledgeBaseCollection"
   ]
  },
  {
   "cell_type": "code",
   "execution_count": 20,
   "metadata": {},
   "outputs": [
    {
     "name": "stdout",
     "output_type": "stream",
     "text": [
      "<DynamoMultiKnowledgeBase name=Neosperience, metadata={'description': 'Neosperience blog knowledge base', 'author': 'Janos'}>\n",
      "<DynamoMultiKnowledgeBase name=EmpatAir, metadata={'description': 'EmpatAir knowledge base', 'author': 'Janos'}>\n"
     ]
    }
   ],
   "source": [
    "kbs = DynamoMultiKnowledgeBaseCollection(table_name=table_name, index_name=index_name)\n",
    "for kb in kbs:\n",
    "    print(kb)"
   ]
  },
  {
   "cell_type": "code",
   "execution_count": 21,
   "metadata": {},
   "outputs": [
    {
     "data": {
      "text/plain": [
       "<DynamoMultiKnowledgeBase name=Neosperience, metadata={'description': 'Neosperience blog knowledge base', 'author': 'Janos'}>"
      ]
     },
     "execution_count": 21,
     "metadata": {},
     "output_type": "execute_result"
    }
   ],
   "source": [
    "kb = kbs[\"Neosperience\"]\n",
    "kb"
   ]
  },
  {
   "cell_type": "code",
   "execution_count": 22,
   "metadata": {},
   "outputs": [
    {
     "name": "stdout",
     "output_type": "stream",
     "text": [
      "id='nsp_article_1' text='This is the first article in the NSP blog knowledge base.' metadata={'author': 'janos', 'source': 'https://www.neosperience.com/blog/article1'} last_modified=datetime.datetime(2023, 9, 6, 17, 45, 4, 231586, tzinfo=datetime.timezone.utc)\n",
      "id='nsp_article_2' text='This is the second article in the NSP blog knowledge base.' metadata={'author': 'janos', 'source': 'https://www.neosperience.com/blog/article2'} last_modified=datetime.datetime(2023, 9, 6, 17, 45, 4, 231586, tzinfo=datetime.timezone.utc)\n"
     ]
    }
   ],
   "source": [
    "for article in kb:\n",
    "    print(article)"
   ]
  },
  {
   "cell_type": "code",
   "execution_count": 8,
   "metadata": {},
   "outputs": [
    {
     "data": {
      "text/plain": [
       "{'Items': [{'gsi_pk': 'Neosperience',\n",
       "   'metadata': {'description': 'Neosperience blog knowledge base',\n",
       "    'author': 'Janos'},\n",
       "   'sk': '_metadata',\n",
       "   'pk': 'Neosperience'},\n",
       "  {'gsi_pk': 'EmpatAir',\n",
       "   'sk': '_metadata',\n",
       "   'metadata': {'description': 'EmpatAir knowledge base', 'author': 'Janos'},\n",
       "   'pk': 'EmpatAir'}],\n",
       " 'Count': 2,\n",
       " 'ScannedCount': 2,\n",
       " 'ResponseMetadata': {'RequestId': '9M1382A76IVLERD427SQ8RL5CBVV4KQNSO5AEMVJF66Q9ASUAAJG',\n",
       "  'HTTPStatusCode': 200,\n",
       "  'HTTPHeaders': {'server': 'Server',\n",
       "   'date': 'Wed, 06 Sep 2023 16:45:49 GMT',\n",
       "   'content-type': 'application/x-amz-json-1.0',\n",
       "   'content-length': '377',\n",
       "   'connection': 'keep-alive',\n",
       "   'x-amzn-requestid': '9M1382A76IVLERD427SQ8RL5CBVV4KQNSO5AEMVJF66Q9ASUAAJG',\n",
       "   'x-amz-crc32': '1791352460'},\n",
       "  'RetryAttempts': 0}}"
      ]
     },
     "execution_count": 8,
     "metadata": {},
     "output_type": "execute_result"
    }
   ],
   "source": [
    "table.scan(IndexName=index_name)"
   ]
  },
  {
   "cell_type": "code",
   "execution_count": null,
   "metadata": {},
   "outputs": [],
   "source": []
  }
 ],
 "metadata": {
  "kernelspec": {
   "display_name": "pyknowbase",
   "language": "python",
   "name": "python3"
  },
  "language_info": {
   "codemirror_mode": {
    "name": "ipython",
    "version": 3
   },
   "file_extension": ".py",
   "mimetype": "text/x-python",
   "name": "python",
   "nbconvert_exporter": "python",
   "pygments_lexer": "ipython3",
   "version": "3.10.12"
  },
  "orig_nbformat": 4
 },
 "nbformat": 4,
 "nbformat_minor": 2
}
