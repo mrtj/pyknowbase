{
 "cells": [
  {
   "cell_type": "code",
   "execution_count": 1,
   "metadata": {},
   "outputs": [],
   "source": [
    "import boto3\n",
    "\n",
    "from pyknowbase.storage.dynamo_multi import DynamoMultiKnowledgeBaseCollection\n",
    "from pyknowbase.model import Article\n",
    "\n",
    "table_name = \"multi-kb\"\n",
    "index_name = \"gsi_pk-index\""
   ]
  },
  {
   "cell_type": "code",
   "execution_count": 2,
   "metadata": {},
   "outputs": [
    {
     "name": "stdout",
     "output_type": "stream",
     "text": [
      "<DynamoMultiKnowledgeBase name=Neosperience, metadata={'description': 'Neosperience blog knowledge base', 'author': 'Janos'}>\n",
      "<DynamoMultiKnowledgeBase name=EmpatAir, metadata={'description': 'EmpatAir knowledge base', 'author': 'Janos'}>\n"
     ]
    }
   ],
   "source": [
    "kbs = DynamoMultiKnowledgeBaseCollection(table_name=table_name, index_name=index_name)\n",
    "for kb in kbs:\n",
    "    print(kb)"
   ]
  },
  {
   "cell_type": "code",
   "execution_count": 3,
   "metadata": {},
   "outputs": [],
   "source": [
    "kbs2 = DynamoMultiKnowledgeBaseCollection(table_name=\"multi-kb-test\", index_name=\"gsi\")\n",
    "# kbs2.create_table()"
   ]
  },
  {
   "cell_type": "code",
   "execution_count": 4,
   "metadata": {},
   "outputs": [
    {
     "data": {
      "text/plain": [
       "<DynamoMultiKnowledgeBase name=TestKB2, metadata={'author': 'mrtj2'}>"
      ]
     },
     "execution_count": 4,
     "metadata": {},
     "output_type": "execute_result"
    }
   ],
   "source": [
    "kbs2\n",
    "kbs2.put_knowledge_base(\"TestKB2\", metadata={\"author\": \"mrtj2\"})"
   ]
  },
  {
   "cell_type": "code",
   "execution_count": 5,
   "metadata": {},
   "outputs": [
    {
     "data": {
      "text/plain": [
       "[<DynamoMultiKnowledgeBase name=TestKB2, metadata={'author': 'mrtj2'}>,\n",
       " <DynamoMultiKnowledgeBase name=TestKB, metadata={'author': 'Janos'}>]"
      ]
     },
     "execution_count": 5,
     "metadata": {},
     "output_type": "execute_result"
    }
   ],
   "source": [
    "list(kbs2)"
   ]
  },
  {
   "cell_type": "code",
   "execution_count": 6,
   "metadata": {},
   "outputs": [],
   "source": [
    "test_kb2 = kbs2[\"TestKB2\"]"
   ]
  },
  {
   "cell_type": "code",
   "execution_count": 21,
   "metadata": {},
   "outputs": [],
   "source": [
    "test_kb2.add(Article(id=\"article1\", text=\"test kb2 article 1\"))"
   ]
  },
  {
   "cell_type": "code",
   "execution_count": 7,
   "metadata": {},
   "outputs": [
    {
     "data": {
      "text/plain": [
       "[Article(id='article1', text='test kb2 article 1', metadata=None, last_modified=datetime.datetime(2023, 9, 7, 13, 49, 26, 83975, tzinfo=datetime.timezone.utc))]"
      ]
     },
     "execution_count": 7,
     "metadata": {},
     "output_type": "execute_result"
    }
   ],
   "source": [
    "list(test_kb2)"
   ]
  },
  {
   "cell_type": "code",
   "execution_count": 11,
   "metadata": {},
   "outputs": [
    {
     "name": "stdout",
     "output_type": "stream",
     "text": [
      "delete key: {'pk': 'TestKB2', 'sk': '_knowledgebase'}\n"
     ]
    }
   ],
   "source": [
    "del kbs2[test_kb2.name]"
   ]
  },
  {
   "cell_type": "code",
   "execution_count": 19,
   "metadata": {},
   "outputs": [],
   "source": [
    "del test_kb2[\"article1\"]"
   ]
  },
  {
   "cell_type": "code",
   "execution_count": 12,
   "metadata": {},
   "outputs": [
    {
     "data": {
      "text/plain": [
       "{'Items': [{'metadata': {'author': 'Janos'},\n",
       "   'gsi_pk': 'TestKB',\n",
       "   'sk': '_knowledgebase',\n",
       "   'pk': 'TestKB'}],\n",
       " 'Count': 1,\n",
       " 'ScannedCount': 1,\n",
       " 'ResponseMetadata': {'RequestId': 'U2FIPO5ECFE49KPOBRUCPUHBQ7VV4KQNSO5AEMVJF66Q9ASUAAJG',\n",
       "  'HTTPStatusCode': 200,\n",
       "  'HTTPHeaders': {'server': 'Server',\n",
       "   'date': 'Thu, 07 Sep 2023 13:51:05 GMT',\n",
       "   'content-type': 'application/x-amz-json-1.0',\n",
       "   'content-length': '154',\n",
       "   'connection': 'keep-alive',\n",
       "   'x-amzn-requestid': 'U2FIPO5ECFE49KPOBRUCPUHBQ7VV4KQNSO5AEMVJF66Q9ASUAAJG',\n",
       "   'x-amz-crc32': '879996119'},\n",
       "  'RetryAttempts': 0}}"
      ]
     },
     "execution_count": 12,
     "metadata": {},
     "output_type": "execute_result"
    }
   ],
   "source": [
    "kbs2.table.scan()"
   ]
  },
  {
   "cell_type": "code",
   "execution_count": null,
   "metadata": {},
   "outputs": [],
   "source": []
  }
 ],
 "metadata": {
  "kernelspec": {
   "display_name": "pyknowbase",
   "language": "python",
   "name": "python3"
  },
  "language_info": {
   "codemirror_mode": {
    "name": "ipython",
    "version": 3
   },
   "file_extension": ".py",
   "mimetype": "text/x-python",
   "name": "python",
   "nbconvert_exporter": "python",
   "pygments_lexer": "ipython3",
   "version": "3.10.12"
  },
  "orig_nbformat": 4
 },
 "nbformat": 4,
 "nbformat_minor": 2
}
